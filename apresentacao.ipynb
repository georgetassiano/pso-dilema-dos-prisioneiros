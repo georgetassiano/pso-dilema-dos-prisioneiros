{
 "cells": [
  {
   "cell_type": "code",
   "execution_count": 5,
   "metadata": {
    "collapsed": true
   },
   "outputs": [
    {
     "ename": "ModuleNotFoundError",
     "evalue": "No module named 'main'",
     "traceback": [
      "\u001b[0;31m---------------------------------------------------------------------------\u001b[0m",
      "\u001b[0;31mModuleNotFoundError\u001b[0m                       Traceback (most recent call last)",
      "\u001b[0;32m<ipython-input-5-7e0bda9e9539>\u001b[0m in \u001b[0;36m<module>\u001b[0;34m()\u001b[0m\n\u001b[0;32m----> 1\u001b[0;31m \u001b[0;32mimport\u001b[0m \u001b[0mmain\u001b[0m\u001b[0;34m\u001b[0m\u001b[0m\n\u001b[0m\u001b[1;32m      2\u001b[0m \u001b[0;32mfrom\u001b[0m \u001b[0mmodels\u001b[0m\u001b[0;34m.\u001b[0m\u001b[0mpso\u001b[0m\u001b[0;34m.\u001b[0m\u001b[0mpso_algorithm\u001b[0m \u001b[0;32mimport\u001b[0m \u001b[0mPSOAlgorithm\u001b[0m\u001b[0;34m\u001b[0m\u001b[0m\n\u001b[1;32m      3\u001b[0m \u001b[0;32mfrom\u001b[0m \u001b[0mmodels\u001b[0m\u001b[0;34m.\u001b[0m\u001b[0mpso\u001b[0m\u001b[0;34m.\u001b[0m\u001b[0mswarm\u001b[0m \u001b[0;32mimport\u001b[0m \u001b[0mSwarm\u001b[0m\u001b[0;34m\u001b[0m\u001b[0m\n\u001b[1;32m      4\u001b[0m \u001b[0;32mfrom\u001b[0m \u001b[0mmodels\u001b[0m\u001b[0;34m.\u001b[0m\u001b[0mfunctions_optimization\u001b[0m\u001b[0;34m.\u001b[0m\u001b[0mdp_individual_sem_bonus\u001b[0m \u001b[0;32mimport\u001b[0m \u001b[0mDPIndividualSemBonus\u001b[0m\u001b[0;34m\u001b[0m\u001b[0m\n\u001b[1;32m      5\u001b[0m \u001b[0;32mfrom\u001b[0m \u001b[0mmodels\u001b[0m\u001b[0;34m.\u001b[0m\u001b[0mfunctions_optimization\u001b[0m\u001b[0;34m.\u001b[0m\u001b[0mdp_individual_com_bonus\u001b[0m \u001b[0;32mimport\u001b[0m \u001b[0mDPIndividualComBonus\u001b[0m\u001b[0;34m\u001b[0m\u001b[0m\n",
      "\u001b[0;31mModuleNotFoundError\u001b[0m: No module named 'main'"
     ],
     "output_type": "error"
    }
   ],
   "source": [
    "import os\n",
    "\n",
    "from models.pso.pso_algorithm import PSOAlgorithm\n",
    "from models.pso.swarm import Swarm\n",
    "from models.functions_optimization.dp_individual_sem_bonus import DPIndividualSemBonus\n",
    "from models.functions_optimization.dp_individual_com_bonus import DPIndividualComBonus\n",
    "from models.functions_optimization.dp_individual_10_sem_bonus import DPIndividual10SemBonus\n",
    "from models.functions_optimization.dp_individual_10_com_bonus import DPIndividual10ComBonus\n",
    "from models.functions_optimization.dp_individual_30_sem_bonus import DPIndividual30SemBonus\n",
    "from models.functions_optimization.dp_individual_30_com_bonus import DPIndividual30ComBonus\n",
    "from models.functions_optimization.dp_coletivo_sem_bonus import DPColetivoSemBonus\n",
    "from models.functions_optimization.dp_coletivo_com_bonus import DPColetivoComBonus\n",
    "from models.functions_optimization.dp_coletivo_10_sem_bonus import DPColetivo10SemBonus\n",
    "from models.functions_optimization.dp_coletivo_10_com_bonus import DPColetivo10ComBonus\n",
    "from models.functions_optimization.dp_coletivo_30_sem_bonus import DPColetivo30SemBonus\n",
    "from models.functions_optimization.dp_coletivo_30_com_bonus import DPColetivo30ComBonus\n",
    "import matplotlib.pyplot as plt\n",
    "import numpy as np\n"
   ]
  },
  {
   "cell_type": "code",
   "execution_count": 16,
   "metadata": {},
   "outputs": [],
   "source": [
    "count_parms = 30\n",
    "global_comparison_length = 1\n",
    "global_comparison_length_10 = 5\n",
    "global_comparison_length_30 = 15\n",
    "particles_length = 50\n",
    "lower_limit = 0.0\n",
    "upper_limit = 1.0\n",
    "max_interation=1000\n",
    "max_execution=5\n",
    "\n",
    "c = 3.0\n",
    "bonus = -0.5\n",
    "inertial = 1.0\n",
    "ci = 1.0\n",
    "si = 1.0"
   ]
  },
  {
   "cell_type": "code",
   "execution_count": 17,
   "metadata": {},
   "outputs": [
    {
     "ename": "NameError",
     "evalue": "name 'DPIndividualSemBonus' is not defined",
     "traceback": [
      "\u001b[0;31m---------------------------------------------------------------------------\u001b[0m",
      "\u001b[0;31mNameError\u001b[0m                                 Traceback (most recent call last)",
      "\u001b[0;32m<ipython-input-17-14f7a83042a2>\u001b[0m in \u001b[0;36m<module>\u001b[0;34m()\u001b[0m\n\u001b[0;32m----> 1\u001b[0;31m \u001b[0mfunction1\u001b[0m \u001b[0;34m=\u001b[0m \u001b[0mDPIndividualSemBonus\u001b[0m\u001b[0;34m(\u001b[0m\u001b[0mlower_limit\u001b[0m\u001b[0;34m,\u001b[0m \u001b[0mupper_limit\u001b[0m\u001b[0;34m,\u001b[0m \u001b[0mcount_parms\u001b[0m\u001b[0;34m,\u001b[0m \u001b[0mglobal_comparison_length\u001b[0m\u001b[0;34m)\u001b[0m\u001b[0;34m\u001b[0m\u001b[0m\n\u001b[0m\u001b[1;32m      2\u001b[0m \u001b[0mswarm\u001b[0m \u001b[0;34m=\u001b[0m \u001b[0mSwarm\u001b[0m\u001b[0;34m(\u001b[0m\u001b[0mparticles_length\u001b[0m\u001b[0;34m,\u001b[0m \u001b[0mfunction1\u001b[0m\u001b[0;34m,\u001b[0m \u001b[0minertial\u001b[0m\u001b[0;34m,\u001b[0m \u001b[0mci\u001b[0m\u001b[0;34m,\u001b[0m \u001b[0msi\u001b[0m\u001b[0;34m)\u001b[0m\u001b[0;34m\u001b[0m\u001b[0m\n\u001b[1;32m      3\u001b[0m \u001b[0malgorithm\u001b[0m \u001b[0;34m=\u001b[0m \u001b[0mPSOAlgorithm\u001b[0m\u001b[0;34m(\u001b[0m\u001b[0mswarm\u001b[0m\u001b[0;34m,\u001b[0m \u001b[0mfunction1\u001b[0m\u001b[0;34m,\u001b[0m \u001b[0mmax_interation\u001b[0m\u001b[0;34m,\u001b[0m \u001b[0mmax_execution\u001b[0m\u001b[0;34m)\u001b[0m\u001b[0;34m\u001b[0m\u001b[0m\n\u001b[1;32m      4\u001b[0m \u001b[0malgorithm\u001b[0m\u001b[0;34m.\u001b[0m\u001b[0mexec_algorithm\u001b[0m\u001b[0;34m(\u001b[0m\u001b[0;34m)\u001b[0m\u001b[0;34m\u001b[0m\u001b[0m\n\u001b[1;32m      5\u001b[0m \u001b[0mresult\u001b[0m \u001b[0;34m=\u001b[0m \u001b[0malgorithm\u001b[0m\u001b[0;34m.\u001b[0m\u001b[0mget_result\u001b[0m\u001b[0;34m(\u001b[0m\u001b[0;34m)\u001b[0m\u001b[0;34m\u001b[0m\u001b[0m\n",
      "\u001b[0;31mNameError\u001b[0m: name 'DPIndividualSemBonus' is not defined"
     ],
     "output_type": "error"
    }
   ],
   "source": [
    "function1 = DPIndividualSemBonus(lower_limit, upper_limit, count_parms, global_comparison_length)\n",
    "swarm = Swarm(particles_length, function1, inertial, ci, si)\n",
    "algorithm = PSOAlgorithm(swarm, function1, max_interation, max_execution)\n",
    "algorithm.exec_algorithm()\n",
    "result = algorithm.get_result()\n",
    "plotarBest = np.zeros([np.size(result, 0)])\n",
    "plotarAvarege = np.zeros([np.size(result, 0)])\n",
    "plotarLowest = np.zeros([np.size(result, 0)])\n",
    "for i in range(np.size(result, 0)):\n",
    "    plotarBest[i] = result[i][0][0]\n",
    "    plotarAvarege[i] = result[i][1][0]\n",
    "    plotarLowest[i] = result[i][2][0]\n",
    "\n",
    "plt.figure(1)\n",
    "plt.subplot(211)\n",
    "plt.plot(plotarBest, 'r--', plotarAvarege, 'bs', plotarLowest, 'g^')\n",
    "plt.subplot(212)\n",
    "plotarBar = [result[0][2][0], result[500][2][0], result[-1][2][0]]\n",
    "plt.bar(np.arange(3), plotarBar)\n",
    "plt.xticks(np.arange(3), ('initial', 'medium', 'final'))\n",
    "plt.show()"
   ]
  }
 ],
 "metadata": {
  "kernelspec": {
   "display_name": "Python 2",
   "language": "python",
   "name": "python2"
  },
  "language_info": {
   "codemirror_mode": {
    "name": "ipython",
    "version": 2
   },
   "file_extension": ".py",
   "mimetype": "text/x-python",
   "name": "python",
   "nbconvert_exporter": "python",
   "pygments_lexer": "ipython2",
   "version": "2.7.6"
  }
 },
 "nbformat": 4,
 "nbformat_minor": 0
}
