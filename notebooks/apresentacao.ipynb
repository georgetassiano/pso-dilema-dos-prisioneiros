{
 "cells": [
  {
   "cell_type": "markdown",
   "metadata": {},
   "source": [
    "# PSO para Dilema dos Prisioneiros"
   ]
  },
  {
   "cell_type": "markdown",
   "metadata": {},
   "source": [
    "importações necessárias para o projeto:"
   ]
  },
  {
   "cell_type": "markdown",
   "metadata": {},
   "source": [
    "Este projeto é totalmente customizável para a execução de qualquer função de otimização. Bastando apenas criar a função de otimização extendendo da classe FunctionOptimizationBase em models/functions_optimization/  \n"
   ]
  },
  {
   "cell_type": "code",
   "execution_count": 14,
   "metadata": {
    "collapsed": true
   },
   "outputs": [],
   "source": [
    "from models.pso.pso_algorithm import PSOAlgorithm\n",
    "from models.pso.swarm import Swarm\n",
    "from models.functions_optimization.dp_individual_sem_bonus import DPIndividualSemBonus\n",
    "from models.functions_optimization.dp_individual_com_bonus import DPIndividualComBonus\n",
    "from models.functions_optimization.dp_individual_10_sem_bonus import DPIndividual10SemBonus\n",
    "from models.functions_optimization.dp_individual_10_com_bonus import DPIndividual10ComBonus\n",
    "from models.functions_optimization.dp_individual_30_sem_bonus import DPIndividual30SemBonus\n",
    "from models.functions_optimization.dp_individual_30_com_bonus import DPIndividual30ComBonus\n",
    "from models.functions_optimization.dp_coletivo_sem_bonus import DPColetivoSemBonus\n",
    "from models.functions_optimization.dp_coletivo_com_bonus import DPColetivoComBonus\n",
    "from models.functions_optimization.dp_coletivo_10_sem_bonus import DPColetivo10SemBonus\n",
    "from models.functions_optimization.dp_coletivo_10_com_bonus import DPColetivo10ComBonus\n",
    "from models.functions_optimization.dp_coletivo_30_sem_bonus import DPColetivo30SemBonus\n",
    "from models.functions_optimization.dp_coletivo_30_com_bonus import DPColetivo30ComBonus\n",
    "import matplotlib.pyplot as plt\n",
    "import numpy as np\n",
    "import pandas as pd\n"
   ]
  },
  {
   "cell_type": "code",
   "execution_count": 15,
   "metadata": {},
   "outputs": [],
   "source": [
    "# parâmetros de execução"
   ]
  },
  {
   "cell_type": "code",
   "execution_count": 8,
   "metadata": {},
   "outputs": [],
   "source": [
    "count_parms = 30  # tamanho da representacao das particulas\n",
    "particles_length = 50  # quantidade de particulas\n",
    "global_comparison_length = 1  # quantidade de particulas para comparar\n",
    "global_comparison_length_10 = round(particles_length * 0.1)  # quantidade de particulas para comparar (10%)\n",
    "global_comparison_length_30 = round(particles_length * 0.3)  # quantidade de particulas para comprar (30%)\n",
    "lower_limit = 0.0  # limite inferior da função\n",
    "upper_limit = 1.0  # limite superior da função\n",
    "max_interation = 1000  # máximo de interações\n",
    "max_execution = 5  # máximo de execuções\n",
    "\n",
    "c = 3.0  # quantidade de posições cooperativas para aplicação de 1 bonus\n",
    "bonus = -0.5  # bonus a ser dado por cada bonus a ser dado\n",
    "inertial = 1.2  # valor da variável de inércia \n",
    "ci = 1.0  # valor da constante da relevância da informação pessoal\n",
    "si = 1.0  # valor da constante de relevância da informações social "
   ]
  },
  {
   "cell_type": "code",
   "execution_count": 24,
   "metadata": {},
   "outputs": [
    {
     "data": {
      "text/html": [
       "<div>\n",
       "<style scoped>\n",
       "    .dataframe tbody tr th:only-of-type {\n",
       "        vertical-align: middle;\n",
       "    }\n",
       "\n",
       "    .dataframe tbody tr th {\n",
       "        vertical-align: top;\n",
       "    }\n",
       "\n",
       "    .dataframe thead th {\n",
       "        text-align: right;\n",
       "    }\n",
       "</style>\n",
       "<table border=\"1\" class=\"dataframe\">\n",
       "  <thead>\n",
       "    <tr style=\"text-align: right;\">\n",
       "      <th></th>\n",
       "      <th>Valor</th>\n",
       "    </tr>\n",
       "  </thead>\n",
       "  <tbody>\n",
       "    <tr>\n",
       "      <th>c</th>\n",
       "      <td>3.0</td>\n",
       "    </tr>\n",
       "    <tr>\n",
       "      <th>bonus</th>\n",
       "      <td>-0.5</td>\n",
       "    </tr>\n",
       "    <tr>\n",
       "      <th>inertial</th>\n",
       "      <td>1.0</td>\n",
       "    </tr>\n",
       "    <tr>\n",
       "      <th>ci</th>\n",
       "      <td>1.0</td>\n",
       "    </tr>\n",
       "    <tr>\n",
       "      <th>si</th>\n",
       "      <td>1.0</td>\n",
       "    </tr>\n",
       "  </tbody>\n",
       "</table>\n",
       "</div>"
      ],
      "text/plain": [
       "<div>\n",
       "<style scoped>\n",
       "    .dataframe tbody tr th:only-of-type {\n",
       "        vertical-align: middle;\n",
       "    }\n",
       "\n",
       "    .dataframe tbody tr th {\n",
       "        vertical-align: top;\n",
       "    }\n",
       "\n",
       "    .dataframe thead th {\n",
       "        text-align: right;\n",
       "    }\n",
       "</style>\n",
       "<table border=\"1\" class=\"dataframe\">\n",
       "  <thead>\n",
       "    <tr style=\"text-align: right;\">\n",
       "      <th></th>\n",
       "      <th>Valor</th>\n",
       "    </tr>\n",
       "  </thead>\n",
       "  <tbody>\n",
       "    <tr>\n",
       "      <th>c</th>\n",
       "      <td>3.0</td>\n",
       "    </tr>\n",
       "    <tr>\n",
       "      <th>bonus</th>\n",
       "      <td>-0.5</td>\n",
       "    </tr>\n",
       "    <tr>\n",
       "      <th>inertial</th>\n",
       "      <td>1.0</td>\n",
       "    </tr>\n",
       "    <tr>\n",
       "      <th>ci</th>\n",
       "      <td>1.0</td>\n",
       "    </tr>\n",
       "    <tr>\n",
       "      <th>si</th>\n",
       "      <td>1.0</td>\n",
       "    </tr>\n",
       "  </tbody>\n",
       "</table>\n",
       "</div>"
      ]
     },
     "execution_count": 24,
     "metadata": {},
     "output_type": "execute_result"
    }
   ],
   "source": [
    "function1 = DPIndividualSemBonus(lower_limit, upper_limit, count_parms, global_comparison_length)\n",
    "swarm = Swarm(particles_length, function1, inertial, ci, si)\n",
    "algorithm = PSOAlgorithm(swarm, function1, max_interation, max_execution)\n",
    "algorithm.exec_algorithm()\n",
    "result = algorithm.get_result()\n",
    "\n",
    "plotarBest = np.zeros([np.size(result, 0)])\n",
    "plotarAvarege = np.zeros([np.size(result, 0)])\n",
    "plotarLowest = np.zeros([np.size(result, 0)])\n",
    "\n",
    "plotarBar = [result[0][2][0], result[500][2][0], result[-1][2][0]]\n",
    "\n",
    "for i in range(np.size(result, 0)):\n",
    "    plotarBest[i] = result[i][0][0]\n",
    "    plotarAvarege[i] = result[i][1][0]\n",
    "    plotarLowest[i] = result[i][2][0]\n",
    "\n",
    "plt.figure(1)\n",
    "\n",
    "plt.subplot(211)\n",
    "plt.plot(plotarBest, 'r--', plotarAvarege, 'bs', plotarLowest, 'g^')\n",
    "\n",
    "plt.subplot(212)\n",
    "plt.bar(np.arange(3), plotarBar)\n",
    "plt.xticks(np.arange(3), ('initial', 'medium', 'final'))\n",
    "plt.show()\n",
    "s = pd.DataFrame([c, bonus, inertial, ci, si], index=['c', 'bonus', 'inertial', 'ci', 'si'], columns=['Valor'])\n",
    "s"
   ]
  },
  {
   "cell_type": "code",
   "execution_count": null,
   "metadata": {},
   "outputs": [],
   "source": []
  }
 ],
 "metadata": {
  "kernelspec": {
   "display_name": "Python 2",
   "language": "python",
   "name": "python2"
  },
  "language_info": {
   "codemirror_mode": {
    "name": "ipython",
    "version": 2
   },
   "file_extension": ".py",
   "mimetype": "text/x-python",
   "name": "python",
   "nbconvert_exporter": "python",
   "pygments_lexer": "ipython2",
   "version": "2.7.6"
  }
 },
 "nbformat": 4,
 "nbformat_minor": 0
}
